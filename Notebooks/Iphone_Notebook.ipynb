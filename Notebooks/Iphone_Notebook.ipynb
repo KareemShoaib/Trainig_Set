{
 "cells": [
  {
   "cell_type": "markdown",
   "metadata": {},
   "source": [
    "Breast_Cancer_NB_KMM\n"
   ]
  },
  {
   "cell_type": "markdown",
   "metadata": {},
   "source": [
    "Imports\n"
   ]
  },
  {
   "cell_type": "code",
   "execution_count": 19,
   "metadata": {},
   "outputs": [],
   "source": [
    "import pandas as pd\n",
    "import numpy as np\n",
    "from sklearn.naive_bayes import GaussianNB\n",
    "from sklearn.metrics import accuracy_score\n",
    "from sklearn.model_selection import train_test_split\n",
    "from sklearn.preprocessing import MinMaxScaler\n",
    "from sklearn.preprocessing import LabelEncoder\n",
    "from sklearn.neighbors import KNeighborsClassifier\n",
    "from sklearn.model_selection import cross_val_score\n",
    "from sklearn.datasets import load_iris "
   ]
  },
  {
   "cell_type": "markdown",
   "metadata": {},
   "source": [
    "Loading DataSet\n"
   ]
  },
  {
   "cell_type": "code",
   "execution_count": 20,
   "metadata": {},
   "outputs": [],
   "source": [
    "df_iphone = pd.read_csv('Iphone_purchase.csv')"
   ]
  },
  {
   "cell_type": "markdown",
   "metadata": {},
   "source": [
    "Encoding Diagnosis Column\n"
   ]
  },
  {
   "cell_type": "code",
   "execution_count": 21,
   "metadata": {},
   "outputs": [],
   "source": [
    "label_encoder = LabelEncoder()\n",
    "df_iphone['gender_encoded'] = label_encoder.fit_transform(df_iphone['Gender'])\n",
    "\n",
    "\n",
    "df_iphone.drop(columns=['Gender'], inplace=True)"
   ]
  },
  {
   "cell_type": "markdown",
   "metadata": {},
   "source": [
    "Normalizing all the numerical values"
   ]
  },
  {
   "cell_type": "code",
   "execution_count": 22,
   "metadata": {},
   "outputs": [],
   "source": [
    "scaler = MinMaxScaler()\n",
    "numerical_columns = df_iphone.select_dtypes(include=['float64', 'int64']).columns\n",
    "df_iphone[numerical_columns] = scaler.fit_transform(df_iphone[numerical_columns])\n",
    "X_iphone = df_iphone.drop(columns=['Purchased'])  \n",
    "y_iphone = df_iphone['Purchased'] "
   ]
  },
  {
   "cell_type": "markdown",
   "metadata": {},
   "source": [
    "Setting up the data for training & splitting the data for training and validation"
   ]
  },
  {
   "cell_type": "code",
   "execution_count": 23,
   "metadata": {},
   "outputs": [],
   "source": [
    "X_train_iphone, X_valid_iphone, y_train_iphone, y_valid_iphone = train_test_split(X_iphone, y_iphone, test_size=0.3, random_state=42)"
   ]
  },
  {
   "cell_type": "markdown",
   "metadata": {},
   "source": [
    "Defining Hyperparameters"
   ]
  },
  {
   "cell_type": "code",
   "execution_count": 24,
   "metadata": {},
   "outputs": [],
   "source": [
    "epochs_iphone = 20\n",
    "batch_size_iphone = 32\n",
    "learning_rate_iphone = 0.001  \n",
    "no_of_neighbors_iphone = 5"
   ]
  },
  {
   "cell_type": "markdown",
   "metadata": {},
   "source": [
    "Training Data and Printing validation accuracy for Naive Bayes"
   ]
  },
  {
   "cell_type": "code",
   "execution_count": 25,
   "metadata": {},
   "outputs": [
    {
     "name": "stdout",
     "output_type": "stream",
     "text": [
      "Epochs for Naive Bayes on Iphone Purchase Dataset\n",
      "Epoch 1/20 - Validation Accuracy: 0.9000\n",
      "Epoch 2/20 - Validation Accuracy: 0.9000\n",
      "Epoch 3/20 - Validation Accuracy: 0.9000\n",
      "Epoch 4/20 - Validation Accuracy: 0.9000\n"
     ]
    },
    {
     "name": "stdout",
     "output_type": "stream",
     "text": [
      "Epoch 5/20 - Validation Accuracy: 0.9000\n",
      "Epoch 6/20 - Validation Accuracy: 0.9000\n",
      "Epoch 7/20 - Validation Accuracy: 0.9000\n",
      "Epoch 8/20 - Validation Accuracy: 0.9000\n",
      "Epoch 9/20 - Validation Accuracy: 0.9000\n",
      "Epoch 10/20 - Validation Accuracy: 0.9000\n",
      "Epoch 11/20 - Validation Accuracy: 0.9000\n",
      "Epoch 12/20 - Validation Accuracy: 0.9000\n",
      "Epoch 13/20 - Validation Accuracy: 0.9000\n",
      "Epoch 14/20 - Validation Accuracy: 0.9000\n",
      "Epoch 15/20 - Validation Accuracy: 0.9000\n",
      "Epoch 16/20 - Validation Accuracy: 0.9000\n",
      "Epoch 17/20 - Validation Accuracy: 0.9000\n",
      "Epoch 18/20 - Validation Accuracy: 0.9000\n",
      "Epoch 19/20 - Validation Accuracy: 0.9000\n",
      "Epoch 20/20 - Validation Accuracy: 0.9000\n"
     ]
    }
   ],
   "source": [
    "nb_model_iphone = GaussianNB()\n",
    "print(\"Epochs for Naive Bayes on Iphone Purchase Dataset\")\n",
    "\n",
    "# Train the Naive Bayes model\n",
    "for epoch in range(epochs_iphone):\n",
    "    # Shuffle the training data (optional)\n",
    "    shuffled_indices = np.random.permutation(len(X_train_iphone))\n",
    "    X_train_shuffled = X_train_iphone.iloc[shuffled_indices]\n",
    "    y_train_shuffled = y_train_iphone.iloc[shuffled_indices]\n",
    "    \n",
    "    # Mini-batch training (not applicable for Naive Bayes, but keeping the structure consistent)\n",
    "    for batch_start in range(0, len(X_train_iphone), batch_size_iphone):\n",
    "        batch_end = batch_start + batch_size_iphone\n",
    "        X_batch = X_train_shuffled.iloc[batch_start:batch_end]\n",
    "        y_batch = y_train_shuffled.iloc[batch_start:batch_end]\n",
    "        \n",
    "        # Fit the model on the current mini-batch (not applicable for Naive Bayes)\n",
    "        nb_model_iphone.partial_fit(X_batch, y_batch, classes=np.unique(y_iphone))\n",
    "        \n",
    "    # Evaluate the model on the validation set\n",
    "    y_valid_pred = nb_model_iphone.predict(X_valid_iphone)\n",
    "    accuracy = accuracy_score(y_valid_iphone, y_valid_pred)\n",
    "    \n",
    "   \n",
    "    print(f\"Epoch {epoch+1}/{epochs_iphone} - Validation Accuracy: {accuracy:.4f}\")"
   ]
  },
  {
   "cell_type": "markdown",
   "metadata": {},
   "source": [
    "Training Data and Printing validation accuracy for KNN"
   ]
  },
  {
   "cell_type": "code",
   "execution_count": 26,
   "metadata": {},
   "outputs": [
    {
     "name": "stdout",
     "output_type": "stream",
     "text": [
      "Epochs for KNN on Iphone Purchase Dataset\n",
      "Epoch 1/20 - Validation Accuracy: 0.9167\n",
      "Epoch 2/20 - Validation Accuracy: 0.9167\n",
      "Epoch 3/20 - Validation Accuracy: 0.9167\n",
      "Epoch 4/20 - Validation Accuracy: 0.9167\n",
      "Epoch 5/20 - Validation Accuracy: 0.9167\n",
      "Epoch 6/20 - Validation Accuracy: 0.9167\n",
      "Epoch 7/20 - Validation Accuracy: 0.9167\n",
      "Epoch 8/20 - Validation Accuracy: 0.9167\n",
      "Epoch 9/20 - Validation Accuracy: 0.9167\n",
      "Epoch 10/20 - Validation Accuracy: 0.9167\n",
      "Epoch 11/20 - Validation Accuracy: 0.9167\n",
      "Epoch 12/20 - Validation Accuracy: 0.9167\n",
      "Epoch 13/20 - Validation Accuracy: 0.9167\n",
      "Epoch 14/20 - Validation Accuracy: 0.9167\n",
      "Epoch 15/20 - Validation Accuracy: 0.9167\n",
      "Epoch 16/20 - Validation Accuracy: 0.9167\n",
      "Epoch 17/20 - Validation Accuracy: 0.9167\n",
      "Epoch 18/20 - Validation Accuracy: 0.9167\n",
      "Epoch 19/20 - Validation Accuracy: 0.9167\n",
      "Epoch 20/20 - Validation Accuracy: 0.9167\n"
     ]
    }
   ],
   "source": [
    "knn_model_iphone = KNeighborsClassifier(n_neighbors=no_of_neighbors_iphone)\n",
    "print (\"Epochs for KNN on Iphone Purchase Dataset\")\n",
    "\n",
    "# Train the KNN model\n",
    "for epoch in range(epochs_iphone):\n",
    "    # Shuffle the training data (optional)\n",
    "    shuffled_indices = np.random.permutation(len(X_train_iphone))\n",
    "    X_train_shuffled = X_train_iphone.iloc[shuffled_indices]\n",
    "    y_train_shuffled = y_train_iphone.iloc[shuffled_indices]\n",
    "    \n",
    "    # Fit the model on the entire training data\n",
    "    knn_model_iphone.fit(X_train_shuffled, y_train_shuffled)\n",
    "        \n",
    "    # Evaluate the model on the validation set\n",
    "    y_valid_pred = knn_model_iphone.predict(X_valid_iphone)\n",
    "    accuracy = accuracy_score(y_valid_iphone, y_valid_pred)\n",
    "    \n",
    "   \n",
    "    print(f\"Epoch {epoch+1}/{epochs_iphone} - Validation Accuracy: {accuracy:.4f}\")"
   ]
  },
  {
   "cell_type": "markdown",
   "metadata": {},
   "source": [
    "CV and Standard deviation of NB"
   ]
  },
  {
   "cell_type": "code",
   "execution_count": 27,
   "metadata": {},
   "outputs": [
    {
     "name": "stdout",
     "output_type": "stream",
     "text": [
      "Cross-validation scores for GaussianNB on Iphone Purchase Dataset:\n",
      "Cross-validation scores: [0.8375 0.9625 0.925  0.8    0.8875]\n",
      "Mean CV score: 0.8825000000000001\n",
      "Standard deviation of CV scores: 0.0584166072277396\n"
     ]
    }
   ],
   "source": [
    "print(\"Cross-validation scores for GaussianNB on Iphone Purchase Dataset:\")\n",
    "cv_scores_nb_iphone = cross_val_score(nb_model_iphone, X_iphone, y_iphone, cv=5)  # 5-fold cross-validation\n",
    "print(\"Cross-validation scores:\", cv_scores_nb_iphone)\n",
    "print(\"Mean CV score:\", cv_scores_nb_iphone.mean())\n",
    "print(\"Standard deviation of CV scores:\", cv_scores_nb_iphone.std())\n"
   ]
  },
  {
   "cell_type": "markdown",
   "metadata": {},
   "source": [
    "CV and Standard deviation of KNN"
   ]
  },
  {
   "cell_type": "code",
   "execution_count": 28,
   "metadata": {},
   "outputs": [
    {
     "name": "stdout",
     "output_type": "stream",
     "text": [
      "Cross-validation scores for KNN on Iphone Purchase Dataset:\n",
      "Cross-validation scores: [0.9    0.9125 0.9    0.8125 0.8625]\n",
      "Mean CV score: 0.8775000000000001\n",
      "Standard deviation of CV scores: 0.03657184709581948\n"
     ]
    }
   ],
   "source": [
    "print(\"Cross-validation scores for KNN on Iphone Purchase Dataset:\")\n",
    "cv_scores_knn_iphone = cross_val_score(knn_model_iphone, X_iphone, y_iphone, cv=5)  # 5-fold cross-validation\n",
    "print(\"Cross-validation scores:\", cv_scores_knn_iphone)\n",
    "print(\"Mean CV score:\", cv_scores_knn_iphone.mean())\n",
    "print(\"Standard deviation of CV scores:\", cv_scores_knn_iphone.std())"
   ]
  }
 ],
 "metadata": {
  "kernelspec": {
   "display_name": "Python 3",
   "language": "python",
   "name": "python3"
  },
  "language_info": {
   "codemirror_mode": {
    "name": "ipython",
    "version": 3
   },
   "file_extension": ".py",
   "mimetype": "text/x-python",
   "name": "python",
   "nbconvert_exporter": "python",
   "pygments_lexer": "ipython3",
   "version": "3.9.13"
  }
 },
 "nbformat": 4,
 "nbformat_minor": 2
}
